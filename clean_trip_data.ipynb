{
 "cells": [
  {
   "cell_type": "markdown",
   "metadata": {},
   "source": [
    "# DS 2010 Final Project"
   ]
  },
  {
   "cell_type": "markdown",
   "metadata": {},
   "source": [
    "## Import Packages"
   ]
  },
  {
   "cell_type": "code",
   "execution_count": 1,
   "metadata": {
    "scrolled": true
   },
   "outputs": [],
   "source": [
    "import pandas as pd\n",
    "import math\n",
    "import numpy as np"
   ]
  },
  {
   "cell_type": "markdown",
   "metadata": {},
   "source": [
    "## Import Data"
   ]
  },
  {
   "cell_type": "code",
   "execution_count": 3,
   "metadata": {},
   "outputs": [],
   "source": [
    "covid_19_data = pd.read_csv(\"Raw_Data/all-states-history.csv\")\n",
    "\n",
    "anxiety_depression_data = pd.read_csv(\"Raw_Data/Indicators_of_Anxiety_or_Depression_Based_on_Reported_Frequency_of_Symptoms_During_Last_7_Days.csv\")\n",
    "# Starts Apr 23, Ends Nov 9\n",
    "\n",
    "\n",
    "trips_data = pd.read_csv(\"Raw_Data/Trips_by_Distance.csv\")\n",
    "trips_data2 = pd.read_csv(\"Raw_Data/Trips_by_Distance last two days.csv\")"
   ]
  },
  {
   "cell_type": "markdown",
   "metadata": {},
   "source": [
    "## Clean trip data"
   ]
  },
  {
   "cell_type": "code",
   "execution_count": 34,
   "metadata": {},
   "outputs": [],
   "source": [
    "td = trips_data.groupby(by = ['Date', 'State Postal Code']).sum().drop(columns= ['State FIPS', 'County FIPS']).reset_index()\n",
    "td['Week'] = np.floor(td.index / 51 / 7)\n",
    "td2 = td.groupby(by = ['Week', 'State Postal Code']).sum().reset_index()\n",
    "\n",
    "td2[\"Week\"] = td2[\"Week\"] - 1\n",
    "td2.loc[td2[\"Week\"] == -1,\"Week\"] = 0\n",
    "# Index 1-11 are 1 week\n",
    "# Index 12-16 are break\n",
    "for i in range(12, 17):\n",
    "    td2.loc[td2[\"Week\"] == i,\"Week\"] = 12\n",
    "\n",
    "# Index 17|18, 19|20, 21|22, 23|24, 25|26, 27|28 are one time period\n",
    "period = 13\n",
    "for i in range(0, 12, 2):\n",
    "    week = i + 17\n",
    "    td2.loc[td2[\"Week\"] == week,\"Week\"] = period\n",
    "    td2.loc[td2[\"Week\"] == week + 1,\"Week\"] = period\n",
    "    period += 1\n",
    "\n",
    "td2 = td2.groupby(by= [\"Week\", \"State Postal Code\"]).sum().reset_index()"
   ]
  }
 ],
 "metadata": {
  "kernelspec": {
   "display_name": "Python 3",
   "language": "python",
   "name": "python3"
  },
  "language_info": {
   "codemirror_mode": {
    "name": "ipython",
    "version": 3
   },
   "file_extension": ".py",
   "mimetype": "text/x-python",
   "name": "python",
   "nbconvert_exporter": "python",
   "pygments_lexer": "ipython3",
   "version": "3.8.5"
  }
 },
 "nbformat": 4,
 "nbformat_minor": 4
}
