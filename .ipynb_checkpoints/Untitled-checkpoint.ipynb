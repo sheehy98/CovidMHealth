{
 "cells": [
  {
   "cell_type": "code",
   "execution_count": 6,
   "metadata": {},
   "outputs": [],
   "source": [
    "import json"
   ]
  },
  {
   "cell_type": "code",
   "execution_count": 9,
   "metadata": {},
   "outputs": [],
   "source": [
    "with open(\"final.json\") as f:\n",
    "  final = json.load(f)"
   ]
  },
  {
   "cell_type": "code",
   "execution_count": 11,
   "metadata": {},
   "outputs": [
    {
     "data": {
      "text/plain": [
       "{'AL': ['positiveCasesViral', 0.5222636791718468],\n",
       " 'AK': ['positiveCasesViral', 0.42158946261338526],\n",
       " 'AZ': ['positiveCasesIncrease', 0.8241619463384848],\n",
       " 'AR': ['Number of Trips 10-25', 0.05062391815804301],\n",
       " 'CA': ['positiveCasesIncrease', 0.4452543179884434],\n",
       " 'CO': ['totalTestsPeopleViralIncrease', 0.4695946290955846],\n",
       " 'CT': ['Number of Trips', 0.24922453711283765],\n",
       " 'GA': ['Number of Trips 1-3', 0.32570353312316846],\n",
       " 'ID': ['Number of Trips 3-5', 0.20632722347928745],\n",
       " 'IL': ['Number of Trips 1-3', 0.7305510040334542],\n",
       " 'IN': ['Number of Trips 25-50', 0.29946631220144737],\n",
       " 'IA': ['positiveCasesIncrease', 0.23325179820369712],\n",
       " 'KY': ['Number of Trips 3-5', 0.11267677504823581],\n",
       " 'LA': ['Number of Trips 10-25', 0.5637776037573008],\n",
       " 'ME': ['Number of Trips 5-10', 0.08682812942777851],\n",
       " 'MD': ['Number of Trips 1-3', -0.0006267502558570115],\n",
       " 'MA': ['positiveCasesViral', 0.2517097389594064],\n",
       " 'MN': ['Number of Trips 1-3', 0.4309680919951496],\n",
       " 'MO': ['Number of Trips <1', 0.3809797185412771],\n",
       " 'MT': ['Number of Trips <1', 0.7452334714601653],\n",
       " 'NH': ['Number of Trips 50-100', 0.5384846548230405],\n",
       " 'NJ': ['Number of Trips', 0.532746823044137],\n",
       " 'NM': ['Number of Trips 3-5', 0.15536242463927474],\n",
       " 'NY': ['hospitalizedCurrently', 0.4068483767564349],\n",
       " 'NC': ['positiveCasesIncrease', 0.7599700291452094],\n",
       " 'ND': ['Number of Trips <1', 0.6426536463561277],\n",
       " 'OH': ['Number of Trips 5-10', -0.06415357177096848],\n",
       " 'OK': ['Number of Trips 1-3', 0.4326541917351815],\n",
       " 'OR': ['positiveCasesIncrease', 0.3545617445892407],\n",
       " 'PA': ['Number of Trips 1-3', 0.24855107168931356],\n",
       " 'RI': ['positiveCasesViral', 0.24990530275982115],\n",
       " 'SD': ['Number of Trips', 0.4424035513036175],\n",
       " 'TN': ['hospitalizedCurrently', 0.33894616241116426],\n",
       " 'TX': ['Number of Trips 1-3', 0.3232025131789906],\n",
       " 'VT': ['positiveCasesViral', 0.24590727348805752],\n",
       " 'VA': ['Number of Trips 10-25', 0.27037005828043437],\n",
       " 'WA': ['totalTestsPeopleViralIncrease', 0.07721510610081805],\n",
       " 'WV': ['Number of Trips 3-5', 0.1667562626043737],\n",
       " 'WI': ['positiveCasesIncrease', 0.0840031451956218],\n",
       " 'WY': ['Number of Trips <1', 0.10690775524305518],\n",
       " 'MS': ['Number of Trips 3-5', 0.40116688237546694],\n",
       " 'NE': ['Number of Trips 50-100', 0.7595389074393755],\n",
       " 'NV': ['Population Not Staying at Home', 0.04761570607960253],\n",
       " 'UT': ['totalTestsPeopleViralIncrease', 0.17510464270944082],\n",
       " 'DE': ['Number of Trips 25-50', 0.2653796390602159],\n",
       " 'DC': ['positiveCasesIncrease', 0.05446360361479052],\n",
       " 'SC': ['Number of Trips 250-500', 0.7121603014388644],\n",
       " 'FL': ['Population Not Staying at Home', 0.9540358072946051],\n",
       " 'HI': ['Population Staying at Home', 0.6964440389969705],\n",
       " 'KS': ['Number of Trips 250-500', 0.5217815439865237]}"
      ]
     },
     "execution_count": 11,
     "metadata": {},
     "output_type": "execute_result"
    }
   ],
   "source": [
    "final['Depression_Score']"
   ]
  },
  {
   "cell_type": "code",
   "execution_count": null,
   "metadata": {},
   "outputs": [],
   "source": []
  },
  {
   "cell_type": "code",
   "execution_count": null,
   "metadata": {},
   "outputs": [],
   "source": []
  }
 ],
 "metadata": {
  "kernelspec": {
   "display_name": "Python 3",
   "language": "python",
   "name": "python3"
  },
  "language_info": {
   "codemirror_mode": {
    "name": "ipython",
    "version": 3
   },
   "file_extension": ".py",
   "mimetype": "text/x-python",
   "name": "python",
   "nbconvert_exporter": "python",
   "pygments_lexer": "ipython3",
   "version": "3.7.9"
  }
 },
 "nbformat": 4,
 "nbformat_minor": 4
}
