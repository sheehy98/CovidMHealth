{
 "cells": [
  {
   "cell_type": "code",
   "execution_count": 15,
   "metadata": {},
   "outputs": [],
   "source": [
    "import json"
   ]
  },
  {
   "cell_type": "code",
   "execution_count": 16,
   "metadata": {},
   "outputs": [],
   "source": [
    "with open(\"final.json\") as f:\n",
    "  final = json.load(f)"
   ]
  },
  {
   "cell_type": "code",
   "execution_count": 17,
   "metadata": {},
   "outputs": [
    {
     "data": {
      "text/plain": [
       "{'AL': ['hospitalizedCurrently', 0.5545166407168818],\n",
       " 'AK': ['hospitalizedCurrently', 0.3207359991854507],\n",
       " 'AZ': ['totalTestsPeopleViralIncrease', 0.7726774050166785],\n",
       " 'AR': ['Number of Trips <1', 0.28903011734603246],\n",
       " 'CA': ['positiveCasesIncrease', 0.3417612798234184],\n",
       " 'CO': ['Number of Trips 1-3', 0.3716325356201279],\n",
       " 'CT': ['Number of Trips 10-25', 0.37027134118011507],\n",
       " 'GA': ['Number of Trips 5-10', 0.43437084244142],\n",
       " 'ID': ['totalTestsPeopleViralIncrease', 0.5251499180366703],\n",
       " 'IL': ['Number of Trips <1', 0.5631606909979645],\n",
       " 'IN': ['Number of Trips 1-3', 0.22830133601946967],\n",
       " 'IA': ['death', 0.3224579747167886],\n",
       " 'KY': ['death', 0.45132466663636484],\n",
       " 'LA': ['deathIncrease', 0.4165534446065037],\n",
       " 'ME': ['positiveCasesIncrease', 0.4553829812437419],\n",
       " 'MD': ['Number of Trips <1', 0.19438097312014424],\n",
       " 'MA': ['death', 0.31161555781051176],\n",
       " 'MN': ['Number of Trips 1-3', 0.5476046616342893],\n",
       " 'MO': ['Number of Trips', 0.5019930873628801],\n",
       " 'MT': ['Number of Trips 1-3', 0.27512595413760166],\n",
       " 'NH': ['Number of Trips', 0.44230600845093015],\n",
       " 'NJ': ['Population Staying at Home', 0.4596365025931436],\n",
       " 'NM': ['Number of Trips 10-25', 0.23727867727550223],\n",
       " 'NY': ['hospitalizedCurrently', 0.2000063693804096],\n",
       " 'NC': ['Number of Trips 3-5', 0.42599242343837784],\n",
       " 'ND': ['Number of Trips 250-500', 0.40979088395554586],\n",
       " 'OH': ['Number of Trips 1-3', 0.27197849357314163],\n",
       " 'OK': ['Number of Trips 3-5', 0.24704225753658826],\n",
       " 'OR': ['positiveCasesIncrease', 0.3078767047004418],\n",
       " 'PA': ['Number of Trips 100-250', 0.2529362279223164],\n",
       " 'RI': ['positiveCasesViral', 0.23798001250571132],\n",
       " 'SD': ['Population Staying at Home', 0.5312535325466552],\n",
       " 'TN': ['hospitalizedCurrently', 0.26841393070289],\n",
       " 'TX': ['positiveCasesIncrease', 0.6179077706873493],\n",
       " 'VT': ['positiveCasesViral', 0.277774437020502],\n",
       " 'VA': ['hospitalizedCurrently', 0.37458356284544847],\n",
       " 'WA': ['positiveCasesViral', 0.44126329170389145],\n",
       " 'WV': ['Number of Trips 1-3', 0.12914399470729265],\n",
       " 'WI': ['deathIncrease', 0.2967313159966578],\n",
       " 'WY': ['death', 0.10685129463856213],\n",
       " 'MS': ['Number of Trips 250-500', 0.45916159980684024],\n",
       " 'NE': ['Number of Trips 1-3', 0.4901464344408448],\n",
       " 'NV': ['hospitalizedCurrently', 0.3934245760391175],\n",
       " 'UT': ['positiveCasesIncrease', 0.13566651987212075],\n",
       " 'DE': ['death', 0.38283187333028645],\n",
       " 'DC': ['death', 0.18419923032181806],\n",
       " 'SC': ['Number of Trips 1-3', 0.5219566634253542],\n",
       " 'FL': ['Number of Trips 10-25', 0.9469923515018911],\n",
       " 'HI': ['totalTestsPeopleViralIncrease', 0.46699441261328545],\n",
       " 'KS': ['Number of Trips 25-50', 0.9799739154911664]}"
      ]
     },
     "execution_count": 17,
     "metadata": {},
     "output_type": "execute_result"
    }
   ],
   "source": [
    "final['Depression_Score']"
   ]
  },
  {
   "cell_type": "code",
   "execution_count": null,
   "metadata": {},
   "outputs": [],
   "source": []
  },
  {
   "cell_type": "code",
   "execution_count": null,
   "metadata": {},
   "outputs": [],
   "source": []
  }
 ],
 "metadata": {
  "kernelspec": {
   "display_name": "Python 3",
   "language": "python",
   "name": "python3"
  },
  "language_info": {
   "codemirror_mode": {
    "name": "ipython",
    "version": 3
   },
   "file_extension": ".py",
   "mimetype": "text/x-python",
   "name": "python",
   "nbconvert_exporter": "python",
   "pygments_lexer": "ipython3",
   "version": "3.7.9"
  }
 },
 "nbformat": 4,
 "nbformat_minor": 4
}
